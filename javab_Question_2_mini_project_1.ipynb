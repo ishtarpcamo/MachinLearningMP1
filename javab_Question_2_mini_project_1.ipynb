{
  "nbformat": 4,
  "nbformat_minor": 0,
  "metadata": {
    "colab": {
      "provenance": []
    },
    "kernelspec": {
      "name": "python3",
      "display_name": "Python 3"
    },
    "language_info": {
      "name": "python"
    }
  },
  "cells": [
    {
      "cell_type": "code",
      "execution_count": null,
      "metadata": {
        "id": "NUg4EpmUzIID"
      },
      "outputs": [],
      "source": [
        "import requests\n",
        "from bs4 import BeautifulSoup"
      ]
    },
    {
      "cell_type": "code",
      "source": [
        "from google.colab import drive\n",
        "drive.mount('/content/drive')"
      ],
      "metadata": {
        "colab": {
          "base_uri": "https://localhost:8080/"
        },
        "id": "EPCHsk2w1D3t",
        "outputId": "cd1e68eb-8fe9-4d77-c76a-30988ed8f02b"
      },
      "execution_count": null,
      "outputs": [
        {
          "output_type": "stream",
          "name": "stdout",
          "text": [
            "Drive already mounted at /content/drive; to attempt to forcibly remount, call drive.mount(\"/content/drive\", force_remount=True).\n"
          ]
        }
      ]
    },
    {
      "cell_type": "markdown",
      "source": [
        "سوال دو بخش آ\n",
        "جدا کردن نمونه ها"
      ],
      "metadata": {
        "id": "nS-Dmaxq3jgg"
      }
    },
    {
      "cell_type": "code",
      "source": [
        "import numpy as np\n",
        "import scipy.io\n",
        "\n",
        "# خواندن داده از فایل\n",
        "data_98 = scipy.io.loadmat('/content/drive/MyDrive/dataset_p1/98.mat.txt')\n",
        "data_106 = scipy.io.loadmat('/content/drive/MyDrive/dataset_p1/106.mat.txt')\n",
        "\n",
        "# چاپ کردن اطلاعات مربوط به داده‌ها برای بررسی\n",
        "print(data_98.keys())\n",
        "print(data_106.keys())"
      ],
      "metadata": {
        "colab": {
          "base_uri": "https://localhost:8080/"
        },
        "id": "X4XB-vgj1gU8",
        "outputId": "01c1eaf4-6281-40a3-eb42-e76f81960d57"
      },
      "execution_count": null,
      "outputs": [
        {
          "output_type": "stream",
          "name": "stdout",
          "text": [
            "dict_keys(['__header__', '__version__', '__globals__', 'X098_DE_time', 'X098_FE_time'])\n",
            "dict_keys(['__header__', '__version__', '__globals__', 'X106_DE_time', 'X106_FE_time', 'X106_BA_time', 'X106RPM'])\n"
          ]
        }
      ]
    },
    {
      "cell_type": "code",
      "source": [
        "data_98 = {'data': []}  # تعریف دیتا برای کلاس 98\n",
        "data_106 = {'data': []}  # تعریف دیتا برای کلاس 106\n",
        "\n",
        "data_98_M = []  # ذخیره نمونه‌های با شرایط مورد نیاز از کلاس 98\n",
        "\n",
        "for i in range(len(data_98['data'])):\n",
        "    if len(data_98['data'][i]) >= 100 and len(data_98['data'][i]) >= 200:\n",
        "        data_98_M.append(data_98['data'][i])\n",
        "\n",
        "data_106_M = []  # ذخیره نمونه‌های با شرایط مورد نیاز از کلاس 106\n",
        "\n",
        "for i in range(len(data_106['data'])):\n",
        "    if len(data_106['data'][i]) >= 100 and len(data_106['data'][i]) >= 200:\n",
        "        data_106_M.append(data_106['data'][i])\n",
        "\n",
        "# تعداد نمونه‌های جدا شده از هر کلاس\n",
        "print(\"تعداد نمونه‌های با طول حداقل 100 و حداقل 200 از کلاس 98: \", len(data_98_M))\n",
        "print(\"تعداد نمونه‌های با طول حداقل 100 و حداقل 200 از کلاس 106: \", len(data_106_M))"
      ],
      "metadata": {
        "colab": {
          "base_uri": "https://localhost:8080/"
        },
        "id": "xG_m90ET33SA",
        "outputId": "b88c4873-9689-42d3-d144-d0773c873282"
      },
      "execution_count": null,
      "outputs": [
        {
          "output_type": "stream",
          "name": "stdout",
          "text": [
            "تعداد نمونه‌های با طول حداقل 100 و حداقل 200 از کلاس 98:  0\n",
            "تعداد نمونه‌های با طول حداقل 100 و حداقل 200 از کلاس 106:  0\n"
          ]
        }
      ]
    },
    {
      "cell_type": "code",
      "source": [
        "import numpy as np\n",
        "\n",
        "# تعریف برچسب‌ها برای نمونه‌های کلاس‌ها\n",
        "labels_98 = np.full((len(data_98_M), 1), 98)\n",
        "labels_106 = np.full((len(data_106_M), 1), 106)\n",
        "\n",
        "# ایجاد ماتریس نمونه‌ها برای هر دو کلاس\n",
        "data_98_matrix = np.array(data_98_M)\n",
        "data_106_matrix = np.array(data_106_M)\n",
        "\n",
        "# ایجاد ماتریس تمام داده‌ها و برچسب‌ها\n",
        "all_data = np.vstack((data_98_matrix, data_106_matrix))\n",
        "all_labels = np.vstack((labels_98, labels_106))\n",
        "\n",
        "# چاپ اندازه ماتریس نهایی\n",
        "print(\"اندازه ماتریس نمونه‌ها: \", all_data.shape)\n",
        "print(\"اندازه ماتریس برچسب‌ها: \", all_labels.shape)"
      ],
      "metadata": {
        "colab": {
          "base_uri": "https://localhost:8080/"
        },
        "id": "dmMj3eqy6GOa",
        "outputId": "631d6606-80d6-4ed6-f6ee-baa05cf19796"
      },
      "execution_count": null,
      "outputs": [
        {
          "output_type": "stream",
          "name": "stdout",
          "text": [
            "اندازه ماتریس نمونه‌ها:  (2, 0)\n",
            "اندازه ماتریس برچسب‌ها:  (0, 1)\n"
          ]
        }
      ]
    },
    {
      "cell_type": "code",
      "source": [
        "import numpy as np\n",
        "\n",
        "# خواندن داده از فایل به صورت باینری و تبدیل به متن\n",
        "def read_matrix_from_binary_txt(file_path):\n",
        "    try:\n",
        "        data = np.loadtxt(file_path, delimiter=' ', comments='MATLAB', skiprows=1)\n",
        "    except ValueError as e:\n",
        "        print(f\"خطای تبدیل داده: {e}\")\n",
        "        data = None\n",
        "\n",
        "    return data\n",
        "\n",
        "file_path_98 = '/content/drive/MyDrive/dataset_p1/98.mat.txt'\n",
        "file_path_106 = '/content/drive/MyDrive/dataset_p1/106.mat.txt'\n",
        "\n",
        "data_98 = read_matrix_from_binary_txt(file_path_98)\n",
        "data_106 = read_matrix_from_binary_txt(file_path_106)\n",
        "\n",
        "if data_98 is not None:\n",
        "    print(\"اطلاعات از فایل 98:\")\n",
        "    print(data_98)\n",
        "\n",
        "if data_106 is not None:\n",
        "    print(\"اطلاعات از فایل 106:\")\n",
        "    print(data_106)"
      ],
      "metadata": {
        "colab": {
          "base_uri": "https://localhost:8080/"
        },
        "id": "AiKWpTUj7aDY",
        "outputId": "27f8f210-b972-4e29-f24c-71363d542ca7"
      },
      "execution_count": null,
      "outputs": [
        {
          "output_type": "stream",
          "name": "stdout",
          "text": [
            "خطای تبدیل داده: could not convert string 'x' to float64 at row 0, column 1.\n",
            "خطای تبدیل داده: 'utf-8' codec can't decode byte 0xe4 in position 133: invalid continuation byte\n"
          ]
        }
      ]
    },
    {
      "cell_type": "markdown",
      "source": [
        "ب"
      ],
      "metadata": {
        "id": "bqBlhCYHlrJF"
      }
    },
    {
      "cell_type": "code",
      "source": [
        "from google.colab import files\n",
        "\n",
        "uploaded = files.upload()\n",
        "\n",
        "for filename in uploaded.keys():\n",
        "    print(f'فایل \"{filename}\" با موفقیت آپلود شد. اندازه: {len(uploaded[filename])} بایت')"
      ],
      "metadata": {
        "colab": {
          "base_uri": "https://localhost:8080/",
          "height": 141
        },
        "id": "Y66UsZJulqD2",
        "outputId": "881cde15-1321-4c7c-d523-e661ed5eb6cc"
      },
      "execution_count": null,
      "outputs": [
        {
          "output_type": "display_data",
          "data": {
            "text/plain": [
              "<IPython.core.display.HTML object>"
            ],
            "text/html": [
              "\n",
              "     <input type=\"file\" id=\"files-0bb98556-1e3e-4d9c-859b-371f9e96d1a4\" name=\"files[]\" multiple disabled\n",
              "        style=\"border:none\" />\n",
              "     <output id=\"result-0bb98556-1e3e-4d9c-859b-371f9e96d1a4\">\n",
              "      Upload widget is only available when the cell has been executed in the\n",
              "      current browser session. Please rerun this cell to enable.\n",
              "      </output>\n",
              "      <script>// Copyright 2017 Google LLC\n",
              "//\n",
              "// Licensed under the Apache License, Version 2.0 (the \"License\");\n",
              "// you may not use this file except in compliance with the License.\n",
              "// You may obtain a copy of the License at\n",
              "//\n",
              "//      http://www.apache.org/licenses/LICENSE-2.0\n",
              "//\n",
              "// Unless required by applicable law or agreed to in writing, software\n",
              "// distributed under the License is distributed on an \"AS IS\" BASIS,\n",
              "// WITHOUT WARRANTIES OR CONDITIONS OF ANY KIND, either express or implied.\n",
              "// See the License for the specific language governing permissions and\n",
              "// limitations under the License.\n",
              "\n",
              "/**\n",
              " * @fileoverview Helpers for google.colab Python module.\n",
              " */\n",
              "(function(scope) {\n",
              "function span(text, styleAttributes = {}) {\n",
              "  const element = document.createElement('span');\n",
              "  element.textContent = text;\n",
              "  for (const key of Object.keys(styleAttributes)) {\n",
              "    element.style[key] = styleAttributes[key];\n",
              "  }\n",
              "  return element;\n",
              "}\n",
              "\n",
              "// Max number of bytes which will be uploaded at a time.\n",
              "const MAX_PAYLOAD_SIZE = 100 * 1024;\n",
              "\n",
              "function _uploadFiles(inputId, outputId) {\n",
              "  const steps = uploadFilesStep(inputId, outputId);\n",
              "  const outputElement = document.getElementById(outputId);\n",
              "  // Cache steps on the outputElement to make it available for the next call\n",
              "  // to uploadFilesContinue from Python.\n",
              "  outputElement.steps = steps;\n",
              "\n",
              "  return _uploadFilesContinue(outputId);\n",
              "}\n",
              "\n",
              "// This is roughly an async generator (not supported in the browser yet),\n",
              "// where there are multiple asynchronous steps and the Python side is going\n",
              "// to poll for completion of each step.\n",
              "// This uses a Promise to block the python side on completion of each step,\n",
              "// then passes the result of the previous step as the input to the next step.\n",
              "function _uploadFilesContinue(outputId) {\n",
              "  const outputElement = document.getElementById(outputId);\n",
              "  const steps = outputElement.steps;\n",
              "\n",
              "  const next = steps.next(outputElement.lastPromiseValue);\n",
              "  return Promise.resolve(next.value.promise).then((value) => {\n",
              "    // Cache the last promise value to make it available to the next\n",
              "    // step of the generator.\n",
              "    outputElement.lastPromiseValue = value;\n",
              "    return next.value.response;\n",
              "  });\n",
              "}\n",
              "\n",
              "/**\n",
              " * Generator function which is called between each async step of the upload\n",
              " * process.\n",
              " * @param {string} inputId Element ID of the input file picker element.\n",
              " * @param {string} outputId Element ID of the output display.\n",
              " * @return {!Iterable<!Object>} Iterable of next steps.\n",
              " */\n",
              "function* uploadFilesStep(inputId, outputId) {\n",
              "  const inputElement = document.getElementById(inputId);\n",
              "  inputElement.disabled = false;\n",
              "\n",
              "  const outputElement = document.getElementById(outputId);\n",
              "  outputElement.innerHTML = '';\n",
              "\n",
              "  const pickedPromise = new Promise((resolve) => {\n",
              "    inputElement.addEventListener('change', (e) => {\n",
              "      resolve(e.target.files);\n",
              "    });\n",
              "  });\n",
              "\n",
              "  const cancel = document.createElement('button');\n",
              "  inputElement.parentElement.appendChild(cancel);\n",
              "  cancel.textContent = 'Cancel upload';\n",
              "  const cancelPromise = new Promise((resolve) => {\n",
              "    cancel.onclick = () => {\n",
              "      resolve(null);\n",
              "    };\n",
              "  });\n",
              "\n",
              "  // Wait for the user to pick the files.\n",
              "  const files = yield {\n",
              "    promise: Promise.race([pickedPromise, cancelPromise]),\n",
              "    response: {\n",
              "      action: 'starting',\n",
              "    }\n",
              "  };\n",
              "\n",
              "  cancel.remove();\n",
              "\n",
              "  // Disable the input element since further picks are not allowed.\n",
              "  inputElement.disabled = true;\n",
              "\n",
              "  if (!files) {\n",
              "    return {\n",
              "      response: {\n",
              "        action: 'complete',\n",
              "      }\n",
              "    };\n",
              "  }\n",
              "\n",
              "  for (const file of files) {\n",
              "    const li = document.createElement('li');\n",
              "    li.append(span(file.name, {fontWeight: 'bold'}));\n",
              "    li.append(span(\n",
              "        `(${file.type || 'n/a'}) - ${file.size} bytes, ` +\n",
              "        `last modified: ${\n",
              "            file.lastModifiedDate ? file.lastModifiedDate.toLocaleDateString() :\n",
              "                                    'n/a'} - `));\n",
              "    const percent = span('0% done');\n",
              "    li.appendChild(percent);\n",
              "\n",
              "    outputElement.appendChild(li);\n",
              "\n",
              "    const fileDataPromise = new Promise((resolve) => {\n",
              "      const reader = new FileReader();\n",
              "      reader.onload = (e) => {\n",
              "        resolve(e.target.result);\n",
              "      };\n",
              "      reader.readAsArrayBuffer(file);\n",
              "    });\n",
              "    // Wait for the data to be ready.\n",
              "    let fileData = yield {\n",
              "      promise: fileDataPromise,\n",
              "      response: {\n",
              "        action: 'continue',\n",
              "      }\n",
              "    };\n",
              "\n",
              "    // Use a chunked sending to avoid message size limits. See b/62115660.\n",
              "    let position = 0;\n",
              "    do {\n",
              "      const length = Math.min(fileData.byteLength - position, MAX_PAYLOAD_SIZE);\n",
              "      const chunk = new Uint8Array(fileData, position, length);\n",
              "      position += length;\n",
              "\n",
              "      const base64 = btoa(String.fromCharCode.apply(null, chunk));\n",
              "      yield {\n",
              "        response: {\n",
              "          action: 'append',\n",
              "          file: file.name,\n",
              "          data: base64,\n",
              "        },\n",
              "      };\n",
              "\n",
              "      let percentDone = fileData.byteLength === 0 ?\n",
              "          100 :\n",
              "          Math.round((position / fileData.byteLength) * 100);\n",
              "      percent.textContent = `${percentDone}% done`;\n",
              "\n",
              "    } while (position < fileData.byteLength);\n",
              "  }\n",
              "\n",
              "  // All done.\n",
              "  yield {\n",
              "    response: {\n",
              "      action: 'complete',\n",
              "    }\n",
              "  };\n",
              "}\n",
              "\n",
              "scope.google = scope.google || {};\n",
              "scope.google.colab = scope.google.colab || {};\n",
              "scope.google.colab._files = {\n",
              "  _uploadFiles,\n",
              "  _uploadFilesContinue,\n",
              "};\n",
              "})(self);\n",
              "</script> "
            ]
          },
          "metadata": {}
        },
        {
          "output_type": "stream",
          "name": "stdout",
          "text": [
            "Saving 98.mat.txt to 98.mat.txt\n",
            "Saving 106.mat.txt to 106.mat.txt\n",
            "فایل \"98.mat.txt\" با موفقیت آپلود شد. اندازه: 7742720 بایت\n",
            "فایل \"106.mat.txt\" با موفقیت آپلود شد. اندازه: 2928192 بایت\n"
          ]
        }
      ]
    },
    {
      "cell_type": "code",
      "source": [
        "from scipy.io import loadmat\n",
        "\n",
        "# خواندن داده‌ها از فایل \"98.mat.txt\"\n",
        "data = loadmat('98.mat.txt')\n",
        "\n",
        "# نمایش داده‌های خوانده شده\n",
        "print(data)"
      ],
      "metadata": {
        "colab": {
          "base_uri": "https://localhost:8080/"
        },
        "id": "AgpefB2IuATl",
        "outputId": "d381bc7c-0d7e-449b-b1c4-2f9d52ed03fe"
      },
      "execution_count": null,
      "outputs": [
        {
          "output_type": "stream",
          "name": "stdout",
          "text": [
            "{'__header__': b'MATLAB 5.0 MAT-file, Platform: PCWIN, Created on: Fri Jan 28 10:52:35 2000', '__version__': '1.0', '__globals__': [], 'X098_DE_time': array([[ 0.046104  ],\n",
            "       [-0.03713354],\n",
            "       [-0.089496  ],\n",
            "       ...,\n",
            "       [-0.09909231],\n",
            "       [-0.10827138],\n",
            "       [-0.07092923]]), 'X098_FE_time': array([[ 0.02321636],\n",
            "       [ 0.08115455],\n",
            "       [ 0.09533091],\n",
            "       ...,\n",
            "       [-0.00760182],\n",
            "       [ 0.04026909],\n",
            "       [ 0.06102   ]])}\n"
          ]
        }
      ]
    },
    {
      "cell_type": "code",
      "source": [
        "from scipy.io import loadmat\n",
        "\n",
        "# خواندن داده‌ها از فایل \"98.mat.txt\"\n",
        "data = loadmat('106.mat.txt')\n",
        "\n",
        "# نمایش داده‌های خوانده شده\n",
        "print(data)"
      ],
      "metadata": {
        "colab": {
          "base_uri": "https://localhost:8080/"
        },
        "id": "HQJWezZruF7l",
        "outputId": "099f0c8b-2276-45e3-bc87-2fd4701745bd"
      },
      "execution_count": null,
      "outputs": [
        {
          "output_type": "stream",
          "name": "stdout",
          "text": [
            "{'__header__': b'MATLAB 5.0 MAT-file, Platform: PCWIN, Created on: Mon Jan 31 13:50:54 2000', '__version__': '1.0', '__globals__': [], 'X106_DE_time': array([[-0.27760164],\n",
            "       [-0.04434479],\n",
            "       [ 0.11760303],\n",
            "       ...,\n",
            "       [ 0.17234367],\n",
            "       [ 0.12263852],\n",
            "       [ 0.01884248]]), 'X106_FE_time': array([[ 0.04088545],\n",
            "       [ 0.06985455],\n",
            "       [ 0.33776727],\n",
            "       ...,\n",
            "       [-0.08423636],\n",
            "       [-0.05608909],\n",
            "       [-0.24531273]]), 'X106_BA_time': array([[ 0.07922742],\n",
            "       [ 0.00716226],\n",
            "       [-0.04023739],\n",
            "       ...,\n",
            "       [ 0.01854944],\n",
            "       [ 0.02913187],\n",
            "       [ 0.09306908]]), 'X106RPM': array([[1772]], dtype=uint16)}\n"
          ]
        }
      ]
    },
    {
      "cell_type": "code",
      "source": [
        "import numpy as np\n",
        "\n",
        "data = [1, 2, 3, 4, 5]\n",
        "std_deviation = np.std(data)\n",
        "print(\"Standard Deviation:\", std_deviation)"
      ],
      "metadata": {
        "colab": {
          "base_uri": "https://localhost:8080/"
        },
        "id": "w4-FJngHux5D",
        "outputId": "9a6a1bcc-23d4-48ac-b69c-a9530304f8e0"
      },
      "execution_count": null,
      "outputs": [
        {
          "output_type": "stream",
          "name": "stdout",
          "text": [
            "Standard Deviation: 1.4142135623730951\n"
          ]
        }
      ]
    },
    {
      "cell_type": "code",
      "source": [],
      "metadata": {
        "id": "jFBhWZT60l15"
      },
      "execution_count": null,
      "outputs": []
    },
    {
      "cell_type": "markdown",
      "source": [
        "استخراج از جدول 1"
      ],
      "metadata": {
        "id": "P30APs-R3KD9"
      }
    },
    {
      "cell_type": "code",
      "source": [
        "import numpy as np\n",
        "\n",
        "# داده‌های ورودی\n",
        "data = np.array([-0.03713354, -0.089496, -0.09909231, -0.10827138, -0.07092923])\n",
        "\n",
        "# محاسبه AbsMax\n",
        "AbsMax = np.max(np.abs(data))\n",
        "\n",
        "# محاسبه میانگین\n",
        "mean_val = np.mean(data)\n",
        "\n",
        "# محاسبه IF2\n",
        "IF2 = AbsMax / mean_val\n",
        "\n",
        "print(\"AbsMax:\", AbsMax)\n",
        "print(\"Mean Value:\", mean_val)\n",
        "print(\"IF2:\", IF2)"
      ],
      "metadata": {
        "colab": {
          "base_uri": "https://localhost:8080/"
        },
        "id": "ytKOhusMwqeZ",
        "outputId": "1a5733ce-9f72-4cdf-a095-9972f771fc9b"
      },
      "execution_count": null,
      "outputs": [
        {
          "output_type": "stream",
          "name": "stdout",
          "text": [
            "AbsMax: 0.10827138\n",
            "Mean Value: -0.080984492\n",
            "IF2: -1.336939669881488\n"
          ]
        }
      ]
    },
    {
      "cell_type": "markdown",
      "source": [
        "دیتاست جدید"
      ],
      "metadata": {
        "id": "T-jwzkGV3YI0"
      }
    },
    {
      "cell_type": "code",
      "source": [
        "import numpy as np\n",
        "\n",
        "# تعریف دیتاست جدید\n",
        "new_data = np.random.rand(10)\n",
        "\n",
        "print(\"دیتاست جدید:\")\n",
        "print(new_data)"
      ],
      "metadata": {
        "colab": {
          "base_uri": "https://localhost:8080/"
        },
        "id": "EKw3hPSR3VbQ",
        "outputId": "96004112-347f-4d07-9974-8b7fad666ac1"
      },
      "execution_count": null,
      "outputs": [
        {
          "output_type": "stream",
          "name": "stdout",
          "text": [
            "دیتاست جدید:\n",
            "[0.67479996 0.68628634 0.89639256 0.85137519 0.21436698 0.0395427\n",
            " 0.90718761 0.90740428 0.07877268 0.94714322]\n"
          ]
        }
      ]
    },
    {
      "cell_type": "markdown",
      "source": [
        "پاسخ بخش ج"
      ],
      "metadata": {
        "id": "fpmtlLSYTXUs"
      }
    },
    {
      "cell_type": "markdown",
      "source": [
        "مخلوط کردن داده"
      ],
      "metadata": {
        "id": "IqaiYiVt4CoL"
      }
    },
    {
      "cell_type": "code",
      "source": [
        "import numpy as np\n",
        "\n",
        "# داده‌های اولیه\n",
        "data_initial = np.array([-0.03713354, -0.089496, -0.09909231, -0.10827138, -0.07092923])\n",
        "\n",
        "# دیتاست جدید\n",
        "new_data = np.random.rand(10)\n",
        "\n",
        "# مخلوط کردن داده‌های اولیه و دیتاست جدید\n",
        "mixed_data = np.concatenate((data_initial, new_data))\n",
        "\n",
        "print(\"داده‌های مخلوط شده:\")\n",
        "print(mixed_data)"
      ],
      "metadata": {
        "colab": {
          "base_uri": "https://localhost:8080/"
        },
        "id": "frfacM9o4A1T",
        "outputId": "d46fefd9-aee6-4837-b843-05f127c5552e"
      },
      "execution_count": null,
      "outputs": [
        {
          "output_type": "stream",
          "name": "stdout",
          "text": [
            "داده‌های مخلوط شده:\n",
            "[-0.03713354 -0.089496   -0.09909231 -0.10827138 -0.07092923  0.22977101\n",
            "  0.44618993  0.33411546  0.6887255   0.33526012  0.98966026  0.13503392\n",
            "  0.11017572  0.13533584  0.745763  ]\n"
          ]
        }
      ]
    },
    {
      "cell_type": "code",
      "source": [
        "تقسیم داده ها"
      ],
      "metadata": {
        "id": "1Nv128SA4mma"
      },
      "execution_count": null,
      "outputs": []
    },
    {
      "cell_type": "code",
      "source": [
        "from sklearn.model_selection import train_test_split\n",
        "\n",
        "# تقسیم داده‌ها به بخش آموزش (80%) و ارزیابی (20%)\n",
        "X_train, X_test = train_test_split(mixed_data, test_size=0.2, random_state=42)\n",
        "# X_train: داده‌های بخش آموزش\n",
        "# X_test: داده‌های بخش ارزیابی\n",
        "\n",
        "print(\"داده‌های بخش آموزش:\")\n",
        "print(X_train)\n",
        "\n",
        "print(\"\\nداده‌های بخش ارزیابی:\")\n",
        "print(X_test)"
      ],
      "metadata": {
        "colab": {
          "base_uri": "https://localhost:8080/"
        },
        "id": "Dtj6r1Xk4hai",
        "outputId": "816abd9b-3562-4304-88e1-9002c2b9d76f"
      },
      "execution_count": null,
      "outputs": [
        {
          "output_type": "stream",
          "name": "stdout",
          "text": [
            "داده‌های بخش آموزش:\n",
            "[ 0.13533584  0.22977101  0.6887255  -0.09909231 -0.089496    0.745763\n",
            " -0.07092923  0.33411546  0.98966026  0.11017572 -0.10827138  0.44618993]\n",
            "\n",
            "داده‌های بخش ارزیابی:\n",
            "[ 0.33526012  0.13503392 -0.03713354]\n"
          ]
        }
      ]
    },
    {
      "cell_type": "markdown",
      "source": [
        "بخش د"
      ],
      "metadata": {
        "id": "MuNjHC3zZdpW"
      }
    },
    {
      "cell_type": "markdown",
      "source": [
        "نرمال"
      ],
      "metadata": {
        "id": "14ZSAVtY43rK"
      }
    },
    {
      "cell_type": "code",
      "source": [
        "from sklearn.preprocessing import MinMaxScaler\n",
        "\n",
        "# ساخت یک شی MinMaxScaler\n",
        "scaler = MinMaxScaler()\n",
        "\n",
        "# نرمال کردن داده‌های بخش آموزش\n",
        "X_train_scaled = scaler.fit_transform(X_train.reshape(-1, 1)).flatten()\n",
        "\n",
        "# نرمال کردن داده‌های بخش ارزیابی\n",
        "X_test_scaled = scaler.transform(X_test.reshape(-1, 1)).flatten()\n",
        "\n",
        "print(\"داده‌های بخش آموزش (نرمال شده):\")\n",
        "print(X_train_scaled)\n",
        "\n",
        "print(\"\\nداده‌های بخش ارزیابی (نرمال شده):\")\n",
        "print(X_test_scaled)"
      ],
      "metadata": {
        "colab": {
          "base_uri": "https://localhost:8080/"
        },
        "id": "2YJ45wMr46WR",
        "outputId": "fac5bec8-3795-4772-b1e9-26964296a159"
      },
      "execution_count": null,
      "outputs": [
        {
          "output_type": "stream",
          "name": "stdout",
          "text": [
            "داده‌های بخش آموزش (نرمال شده):\n",
            "[0.22187831 0.3078902  0.72590756 0.00836033 0.01710068 0.77785752\n",
            " 0.03401136 0.40292749 1.         0.19896238 0.         0.50500531]\n",
            "\n",
            "داده‌های بخش ارزیابی (نرمال شده):\n",
            "[0.40397005 0.22160332 0.06479259]\n"
          ]
        }
      ]
    },
    {
      "cell_type": "markdown",
      "source": [
        "ارزیابی"
      ],
      "metadata": {
        "id": "3raR55GF5dfc"
      }
    },
    {
      "cell_type": "code",
      "source": [
        "from sklearn.preprocessing import MinMaxScaler\n",
        "\n",
        "# ساخت یک شی MinMaxScaler\n",
        "scaler = MinMaxScaler()\n",
        "\n",
        "# نرمال کردن داده‌های بخش آموزش\n",
        "X_train_scaled = scaler.fit_transform(X_train.reshape(-1, 1)).flatten()\n",
        "\n",
        "# نرمال کردن داده‌های بخش ارزیابی\n",
        "X_test_scaled = scaler.transform(X_test.reshape(-1, 1)).flatten()\n",
        "\n",
        "print(\"اطلاعات داده‌های بخش ارزیابی قبل از نرمال سازی:\")\n",
        "print(\"میانگین:\", X_test.mean())\n",
        "print(\"انحراف معیار:\", X_test.std())\n",
        "\n",
        "print(\"\\nاطلاعات داده‌های بخش ارزیابی پس از نرمال سازی:\")\n",
        "print(\"میانگین:\", X_test_scaled.mean())\n",
        "print(\"انحراف معیار:\", X_test_scaled.std())"
      ],
      "metadata": {
        "colab": {
          "base_uri": "https://localhost:8080/"
        },
        "id": "74C2gU6g5RX4",
        "outputId": "526a947c-5c3f-4d2d-ca4e-82c1d58012f0"
      },
      "execution_count": null,
      "outputs": [
        {
          "output_type": "stream",
          "name": "stdout",
          "text": [
            "اطلاعات داده‌های بخش ارزیابی قبل از نرمال سازی:\n",
            "میانگین: 0.14438683190079493\n",
            "انحراف معیار: 0.15217285654367865\n",
            "\n",
            "اطلاعات داده‌های بخش ارزیابی پس از نرمال سازی:\n",
            "میانگین: 0.23012198788334323\n",
            "انحراف معیار: 0.13859957286275712\n"
          ]
        }
      ]
    },
    {
      "cell_type": "markdown",
      "source": [
        "پاسخ 3"
      ],
      "metadata": {
        "id": "wePfPVszcMmj"
      }
    },
    {
      "cell_type": "markdown",
      "source": [
        "بدون کابخانه"
      ],
      "metadata": {
        "id": "fuBF5_Il6Bmv"
      }
    },
    {
      "cell_type": "code",
      "source": [
        "class KNN:\n",
        "    def __init__(self, k=3):\n",
        "        self.k = k\n",
        "\n",
        "    def fit(self, X_train, y_train):\n",
        "        self.X_train = X_train\n",
        "        self.y_train = y_train\n",
        "\n",
        "    def predict(self, X_test):\n",
        "        predictions = []\n",
        "        for x_test in X_test:\n",
        "            distances = [np.linalg.norm(x_test - x_train) for x_train in self.X_train]\n",
        "            nearest_indices = np.argsort(distances)[:self.k]\n",
        "            nearest_labels = [self.y_train[i] for i in nearest_indices]\n",
        "            predictions.append(max(set(nearest_labels), key=nearest_labels.count))\n",
        "        return predictions\n",
        "\n",
        "def sum_of_squared_errors(y_true, y_pred):\n",
        "    errors = [(a - b) ** 2 for a, b in zip(y_true, y_pred)]\n",
        "    return sum(errors)\n",
        "\n",
        "# مثال استفاده:\n",
        "# تعریف داده‌ها و برچسب‌ها\n",
        "X_train = np.array([[1, 2], [2, 3], [3, 4]])\n",
        "y_train = np.array([0, 1, 0])\n",
        "X_test = np.array([[1.5, 2.5], [3, 5]])\n",
        "\n",
        "# ایجاد یک مدل k-NN و آموزش آن\n",
        "model = KNN(k=2)\n",
        "model.fit(X_train, y_train)\n",
        "\n",
        "# پیش‌بینی برچسب‌ها برای داده‌های جدید\n",
        "predictions = model.predict(X_test)\n",
        "print(\"پیش‌بینی‌ها:\", predictions)\n",
        "\n",
        "# محاسبه تابع اتلاف (خطای مدل)\n",
        "loss = sum_of_squared_errors([0, 1], predictions)\n",
        "print(\"تابع اتلاف (مجموع مربعات خطاها):\", loss)"
      ],
      "metadata": {
        "colab": {
          "base_uri": "https://localhost:8080/"
        },
        "id": "aLGZtKT158jM",
        "outputId": "85294ed9-397a-44c1-f139-511c2db4a61d"
      },
      "execution_count": null,
      "outputs": [
        {
          "output_type": "stream",
          "name": "stdout",
          "text": [
            "پیش‌بینی‌ها: [0, 0]\n",
            "تابع اتلاف (مجموع مربعات خطاها): 1\n"
          ]
        }
      ]
    },
    {
      "cell_type": "code",
      "source": [
        "from sklearn import datasets\n",
        "from sklearn.model_selection import train_test_split\n",
        "from sklearn.svm import SVC\n",
        "from sklearn.metrics import accuracy_score\n",
        "\n",
        "# بارگذاری دیتاست مورد نیاز\n",
        "iris = datasets.load_iris()\n",
        "X = iris.data\n",
        "y = iris.target\n",
        "\n",
        "# انتخاب دو کلاس از دیتاست\n",
        "X = X[y != 2]\n",
        "y = y[y != 2]\n",
        "\n",
        "# تقسیم دیتاست به داده‌های آموزش و آزمون\n",
        "X_train, X_test, y_train, y_test = train_test_split(X, y, test_size=0.2, random_state=42)\n",
        "\n",
        "# استفاده از الگوریتم SVM برای مدل‌سازی\n",
        "model = SVC(kernel='linear')\n",
        "model.fit(X_train, y_train)\n",
        "\n",
        "# پیش‌بینی برچسب‌ها برای داده‌های آزمون\n",
        "predictions = model.predict(X_test)\n",
        "\n",
        "# محاسبه دقت مدل\n",
        "accuracy = accuracy_score(y_test, predictions)\n",
        "print(\"دقت مدل: {:.2f}%\".format(accuracy * 100))"
      ],
      "metadata": {
        "colab": {
          "base_uri": "https://localhost:8080/"
        },
        "id": "2zlZTsKi6SHf",
        "outputId": "50eb459a-0856-440d-f59a-16ad8c9f850b"
      },
      "execution_count": null,
      "outputs": [
        {
          "output_type": "stream",
          "name": "stdout",
          "text": [
            "دقت مدل: 100.00%\n"
          ]
        }
      ]
    },
    {
      "cell_type": "code",
      "source": [
        "import numpy as np\n",
        "import matplotlib.pyplot as plt\n",
        "\n",
        "# تابع مربعات خطا\n",
        "def mean_squared_error(y_true, y_pred):\n",
        "    return np.mean((y_true - y_pred)**2)\n",
        "\n",
        "# ایجاد داده‌های مدل\n",
        "y_true = np.array([1, 2, 3, 4, 5])\n",
        "y_pred = np.array([1.2, 2.1, 2.8, 4.2, 5.2])\n",
        "\n",
        "# محاسبه تابع اتلاف برای مقادیر ورودی\n",
        "loss_values = [mean_squared_error(y_true, y) for y in np.linspace(0, 6, 100)]\n",
        "\n",
        "# رسم نمودار تابع اتلاف\n",
        "plt.figure(figsize=(8, 6))\n",
        "plt.plot(np.linspace(0, 6, 100), loss_values, label='Mean Squared Error')\n",
        "plt.xlabel('Predicted Value')\n",
        "plt.ylabel('Loss')\n",
        "plt.title('Loss Function - Mean Squared Error')\n",
        "plt.legend()\n",
        "plt.grid(True)\n",
        "plt.show()"
      ],
      "metadata": {
        "colab": {
          "base_uri": "https://localhost:8080/",
          "height": 564
        },
        "id": "srHsRso86ppt",
        "outputId": "2ea8fb02-d7f9-440f-ad28-0b22695b1ba1"
      },
      "execution_count": null,
      "outputs": [
        {
          "output_type": "display_data",
          "data": {
            "text/plain": [
              "<Figure size 800x600 with 1 Axes>"
            ],
            "image/png": "[encoded data removed]"
          },
          "metadata": {}
        }
      ]
    },
    {
      "cell_type": "code",
      "source": [
        "from sklearn.metrics import precision_score, recall_score, f1_score\n",
        "\n",
        "# مثلا y_pred_test یک لیست از پیش‌بینی‌های مدل باشد\n",
        "y_pred_test = [0, 1, 1, 0, 1, 0, 0, 1, 1, 1]\n",
        "\n",
        "# تعریف y_test\n",
        "y_test = [0, 1, 1, 0, 1, 0, 1, 1, 0, 1]\n",
        "\n",
        "# محاسبه دقت\n",
        "precision = precision_score(y_test, y_pred_test, average='weighted')\n",
        "print(\"Precision: {:.2f}\".format(precision * 100))\n",
        "\n",
        "# محاسبه بازخوانی\n",
        "recall = recall_score(y_test, y_pred_test, average='weighted')\n",
        "print(\"Recall: {:.2f}\".format(recall * 100))\n",
        "\n",
        "# محاسبه F1 Score\n",
        "f1 = f1_score(y_test, y_pred_test, average='weighted')\n",
        "print(\"F1 Score: {:.2f}\".format(f1 * 100))"
      ],
      "metadata": {
        "colab": {
          "base_uri": "https://localhost:8080/"
        },
        "id": "GcSZVaYv6tOV",
        "outputId": "74943936-1f39-4210-8513-dcb323f45c27"
      },
      "execution_count": null,
      "outputs": [
        {
          "output_type": "stream",
          "name": "stdout",
          "text": [
            "Precision: 80.00\n",
            "Recall: 80.00\n",
            "F1 Score: 80.00\n"
          ]
        }
      ]
    },
    {
      "cell_type": "markdown",
      "source": [
        "نمودار تابع اتلاف"
      ],
      "metadata": {
        "id": "98ttpCKM7y78"
      }
    },
    {
      "cell_type": "code",
      "source": [
        "from sklearn.linear_model import LogisticRegression\n",
        "import matplotlib.pyplot as plt\n",
        "import numpy as np\n",
        "\n",
        "# آموزش مدل\n",
        "model = LogisticRegression()\n",
        "model.fit(X_train, y_train)\n",
        "\n",
        "# محاسبه احتمالات پیش‌بینی برای داده‌های آموزش\n",
        "y_pred_prob = model.predict_proba(X_train)[:, 1]\n",
        "\n",
        "# محاسبه مقادیر تابع اتلاف\n",
        "loss_values = []\n",
        "for _ in range(model.n_iter_[0]):\n",
        "    loss = -np.mean(y_train * np.log(y_pred_prob) + (1 - y_train) * np.log(1 - y_pred_prob))\n",
        "    loss_values.append(loss)\n",
        "    model.fit(X_train, y_train)  # آموزش مدل مجدداً برای به‌روزرسانی مقادیر احتمالات\n",
        "\n",
        "# تحلیل نمودار تابع اتلاف\n",
        "plt.figure(figsize=(8, 6))\n",
        "plt.plot(range(len(loss_values)), loss_values)\n",
        "plt.xlabel('Epochs')\n",
        "plt.ylabel('Loss')\n",
        "plt.title('Loss Curve')\n",
        "plt.show()"
      ],
      "metadata": {
        "colab": {
          "base_uri": "https://localhost:8080/",
          "height": 564
        },
        "id": "NtuqzMHU7ik9",
        "outputId": "37cebe55-276e-4b3f-f80b-83f3431eb17c"
      },
      "execution_count": null,
      "outputs": [
        {
          "output_type": "display_data",
          "data": {
            "text/plain": [
              "<Figure size 800x600 with 1 Axes>"
            ],
            "image/png": "[encoded data removed]"
          },
          "metadata": {}
        }
      ]
    },
    {
      "cell_type": "markdown",
      "source": [
        "قسمت 4"
      ],
      "metadata": {
        "id": "3zsrB0_m9uW4"
      }
    },
    {
      "cell_type": "code",
      "source": [
        "from sklearn.datasets import make_classification\n",
        "from sklearn.model_selection import train_test_split\n",
        "from sklearn.linear_model import LogisticRegression\n",
        "from sklearn.metrics import ConfusionMatrixDisplay\n",
        "\n",
        "\n",
        "X, y = make_classification(n_samples=10_000, weights=[0.9, 0.1], random_state=0)\n",
        "X_train, X_test, y_train, y_test = train_test_split(X, y, random_state=0)\n",
        "\n",
        "classifier_05 = LogisticRegression(C=1e6, random_state=0).fit(X_train, y_train)\n",
        "_ = ConfusionMatrixDisplay.from_estimator(classifier_05, X_test, y_test)"
      ],
      "metadata": {
        "colab": {
          "base_uri": "https://localhost:8080/",
          "height": 449
        },
        "id": "cc8A-cId9yY0",
        "outputId": "0728c95e-a825-4a90-d246-063cafdb5d64"
      },
      "execution_count": null,
      "outputs": [
        {
          "output_type": "display_data",
          "data": {
            "text/plain": [
              "<Figure size 640x480 with 2 Axes>"
            ],
            "image/png": "[encoded data removed]"
          },
          "metadata": {}
        }
      ]
    },
    {
      "cell_type": "markdown",
      "source": [
        "تست"
      ],
      "metadata": {
        "id": "ZV9zr6xH-Htj"
      }
    },
    {
      "cell_type": "code",
      "source": [
        "classifier_default = LogisticRegression(random_state=0).fit(X_train, y_train)\n",
        "_ = ConfusionMatrixDisplay.from_estimator(classifier_default, X_test, y_test)"
      ],
      "metadata": {
        "colab": {
          "base_uri": "https://localhost:8080/",
          "height": 449
        },
        "id": "KNqYbmOw-E63",
        "outputId": "57ef5eeb-28bf-4dc2-f744-59bd54ef91b7"
      },
      "execution_count": null,
      "outputs": [
        {
          "output_type": "display_data",
          "data": {
            "text/plain": [
              "<Figure size 640x480 with 2 Axes>"
            ],
            "image/png": "[encoded data removed]"
          },
          "metadata": {}
        }
      ]
    },
    {
      "cell_type": "markdown",
      "source": [
        "مقایسه"
      ],
      "metadata": {
        "id": "DnMk298i-OPI"
      }
    },
    {
      "cell_type": "code",
      "source": [
        "from sklearn.metrics import accuracy_score, precision_score, recall_score\n",
        "\n",
        "y_pred_default = classifier_default.predict(X_test)\n",
        "y_pred_05 = classifier_05.predict(X_test)\n",
        "\n",
        "accuracy_default = accuracy_score(y_test, y_pred_default)\n",
        "accuracy_05 = accuracy_score(y_test, y_pred_05)\n",
        "\n",
        "precision_default = precision_score(y_test, y_pred_default)\n",
        "precision_05 = precision_score(y_test, y_pred_05)\n",
        "\n",
        "recall_default = recall_score(y_test, y_pred_default)\n",
        "recall_05 = recall_score(y_test, y_pred_05)\n",
        "\n",
        "print(\"Default Model:\")\n",
        "print(f\"Accuracy: {accuracy_default}, Precision: {precision_default}, Recall: {recall_default}\")\n",
        "\n",
        "print(\"Model with C=1e6:\")\n",
        "print(f\"Accuracy: {accuracy_05}, Precision: {precision_05}, Recall: {recall_05}\")"
      ],
      "metadata": {
        "colab": {
          "base_uri": "https://localhost:8080/"
        },
        "id": "CBTBMo1h-J4f",
        "outputId": "ab4590d1-b095-427c-b1dd-75730b166311"
      },
      "execution_count": null,
      "outputs": [
        {
          "output_type": "stream",
          "name": "stdout",
          "text": [
            "Default Model:\n",
            "Accuracy: 0.9076, Precision: 0.5847457627118644, Recall: 0.2749003984063745\n",
            "Model with C=1e6:\n",
            "Accuracy: 0.9076, Precision: 0.5847457627118644, Recall: 0.2749003984063745\n"
          ]
        }
      ]
    },
    {
      "cell_type": "markdown",
      "source": [
        "تابع اتلاف"
      ],
      "metadata": {
        "id": "86fZz67k-q4P"
      }
    },
    {
      "cell_type": "code",
      "source": [
        "from sklearn.linear_model import LogisticRegression\n",
        "import numpy as np\n",
        "import matplotlib.pyplot as plt\n",
        "\n",
        "# استخراج تابع اتلاف در طول آموزش مدل\n",
        "losses = []\n",
        "clf = LogisticRegression(random_state=0)\n",
        "for i in range(100):\n",
        "    clf.fit(X_train, y_train)\n",
        "    losses.append(np.mean(clf.predict(X_train) != y_train))\n",
        "\n",
        "# نمایش نمودار تابع اتلاف\n",
        "plt.figure()\n",
        "plt.plot(losses)\n",
        "plt.title('Loss Curve')\n",
        "plt.xlabel('Iteration')\n",
        "plt.ylabel('Loss')\n",
        "plt.show()"
      ],
      "metadata": {
        "colab": {
          "base_uri": "https://localhost:8080/",
          "height": 472
        },
        "id": "dTvEt-C8-dtf",
        "outputId": "6c1aef95-990d-40be-8f02-77990897c59c"
      },
      "execution_count": null,
      "outputs": [
        {
          "output_type": "display_data",
          "data": {
            "text/plain": [
              "<Figure size 640x480 with 1 Axes>"
            ],
            "image/png": "[encoded data removed]"
          },
          "metadata": {}
        }
      ]
    },
    {
      "cell_type": "code",
      "source": [
        "from sklearn.linear_model import LogisticRegression\n",
        "\n",
        "# آموزش مدل\n",
        "classifier_05 = LogisticRegression(random_state=0)\n",
        "classifier_05.fit(X_train, y_train)\n",
        "\n",
        "# محاسبه و نمایش دقت مدل بر روی داده‌های آموزش\n",
        "train_accuracy = classifier_05.score(X_train, y_train)\n",
        "print(\"Train Accuracy:\", train_accuracy)\n",
        "\n",
        "# محاسبه و نمایش دقت مدل بر روی داده‌های آزمون\n",
        "test_accuracy = classifier_05.score(X_test, y_test)\n",
        "print(\"Test Accuracy:\", test_accuracy)"
      ],
      "metadata": {
        "colab": {
          "base_uri": "https://localhost:8080/"
        },
        "id": "oJdLUhD4_HlC",
        "outputId": "5000d7e0-1e68-457d-f1b4-ca37c9dd25d5"
      },
      "execution_count": null,
      "outputs": [
        {
          "output_type": "stream",
          "name": "stdout",
          "text": [
            "Train Accuracy: 0.9121333333333334\n",
            "Test Accuracy: 0.9076\n"
          ]
        }
      ]
    },
    {
      "cell_type": "code",
      "source": [
        "from sklearn.linear_model import LinearRegression, LogisticRegression\n",
        "from sklearn.metrics import mean_squared_error, accuracy_score\n",
        "from sklearn.model_selection import train_test_split\n",
        "import numpy as np\n",
        "\n",
        "# داده‌ها را بخوانیم\n",
        "# اینجا یک مثال ساده از داده‌های واقعی است\n",
        "X = np.random.randn(100, 5)  # ماتریس ویژگی‌ها\n",
        "y_regression = np.random.rand(100)  # مقدارهای پیش‌بینی برای مساله رگرسیون\n",
        "y_classification = np.random.randint(0, 2, 100)  # برچسب‌های دسته‌بندی\n",
        "\n",
        "X_train, X_test, y_regression_train, y_regression_test, y_classification_train, y_classification_test = train_test_split(X, y_regression, y_classification, test_size=0.2)\n",
        "\n",
        "# آموزش مدل رگرسیون خطی\n",
        "model_linear = LinearRegression()\n",
        "model_linear.fit(X_train, y_regression_train)\n",
        "\n",
        "# آموزش مدل Logistic Regression\n",
        "model_logistic = LogisticRegression()\n",
        "model_logistic.fit(X_train, y_classification_train)\n",
        "\n",
        "# ارزیابی مدل رگرسیون خطی\n",
        "y_pred_linear = model_linear.predict(X_test)\n",
        "mse_linear = mean_squared_error(y_regression_test, y_pred_linear)\n",
        "print(\"Mean Squared Error of Linear Model:\", mse_linear)\n",
        "\n",
        "# ارزیابی مدل Logistic Regression\n",
        "y_pred_logistic = model_logistic.predict(X_test)\n",
        "accuracy_logistic = accuracy_score(y_classification_test, y_pred_logistic)\n",
        "print(\"Accuracy of Logistic Model:\", accuracy_logistic)"
      ],
      "metadata": {
        "colab": {
          "base_uri": "https://localhost:8080/"
        },
        "id": "XOivVNbL_gMt",
        "outputId": "76d3012b-4f2b-4d88-eddb-53bd29ae3492"
      },
      "execution_count": null,
      "outputs": [
        {
          "output_type": "stream",
          "name": "stdout",
          "text": [
            "Mean Squared Error of Linear Model: 0.0822915801729178\n",
            "Accuracy of Logistic Model: 0.6\n"
          ]
        }
      ]
    }
  ]
}